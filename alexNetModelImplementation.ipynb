{
 "cells": [
  {
   "cell_type": "code",
   "execution_count": null,
   "metadata": {},
   "outputs": [],
   "source": [
    "import torch\n",
    "import torch.nn as nn\n",
    "import torch.optim as optim\n",
    "import torch.nn.functional as F\n",
    "import numpy as np\n",
    "import time\n",
    "import os\n",
    "from tqdm import tqdm\n",
    "import matplotlib.pyplot as plt\n",
    "# Import data loaders from your data preparation script\n",
    "import import_ipynb\n",
    "import alexnet_dataTransformation \n",
    "# import nbimporter\n",
    "\n",
    "from alexnet_dataTransformation import train_loader, val_loader, test_loader, class_to_idx\n",
    "from torch.utils.tensorboard import SummaryWriter"
   ]
  },
  {
   "cell_type": "code",
   "execution_count": 14,
   "metadata": {},
   "outputs": [],
   "source": [
    "from torchsummary import summary"
   ]
  },
  {
   "cell_type": "code",
   "execution_count": 5,
   "metadata": {},
   "outputs": [],
   "source": [
    "# writer = SummaryWriter('runs/tensor_board')\n",
    "tensor_board_log_dir = f\"tensor_board_logs/runs_{time.strftime('%Y%m%d-%H%M%S')}\"\n",
    "writer = SummaryWriter(tensor_board_log_dir)"
   ]
  },
  {
   "cell_type": "markdown",
   "metadata": {},
   "source": [
    "Bias initialization: \\\n",
    "• 2nd, 4th, and 5th convolutional layers with constant 1 and all fully connected \n",
    "hidden layers with 1 \\\n",
    "• The remaining layers with 0 "
   ]
  },
  {
   "cell_type": "code",
   "execution_count": null,
   "metadata": {},
   "outputs": [],
   "source": [
    "# AlexNet model implementation with proper initialization as per paper and asignment\n",
    "# Initialize all layers with random weights taken from ~𝑁(0, 0.01) \n",
    "# Bias initialization: \n",
    "# • 2nd, 4th, and 5th convolutional layers with constant 1 and all fully connected hidden layers with 1 \n",
    "# • The remaining layers with 0 \n",
    "class AlexNet(nn.Module):\n",
    "    def __init__(self, num_classes=100):\n",
    "        super(AlexNet, self).__init__()\n",
    "        \n",
    "        # Features (convolutional layers)\n",
    "        \n",
    "        # First convolutional layer (bias=0)\n",
    "        self.conv1 = nn.Conv2d(3, 96, kernel_size=11, stride=4, padding=2)\n",
    "        self.relu1 = nn.ReLU(inplace=True)\n",
    "        self.lrn1 = nn.LocalResponseNorm(size=5, alpha=0.0001, beta=0.75, k=2)\n",
    "        self.pool1 = nn.MaxPool2d(kernel_size=3, stride=2)\n",
    "        \n",
    "        # Second convolutional layer (bias=1)\n",
    "        self.conv2 = nn.Conv2d(96, 256, kernel_size=5, padding=2, groups=2)\n",
    "        self.relu2 = nn.ReLU(inplace=True)\n",
    "        self.lrn2 = nn.LocalResponseNorm(size=5, alpha=0.0001, beta=0.75, k=2)\n",
    "        self.pool2 = nn.MaxPool2d(kernel_size=3, stride=2)\n",
    "        \n",
    "        # Third convolutional layer (bias=0)\n",
    "        self.conv3 = nn.Conv2d(256, 384, kernel_size=3, padding=1)\n",
    "        self.relu3 = nn.ReLU(inplace=True)\n",
    "        \n",
    "        # Fourth convolutional layer (bias=1)\n",
    "        self.conv4 = nn.Conv2d(384, 384, kernel_size=3, padding=1, groups=2)\n",
    "        self.relu4 = nn.ReLU(inplace=True)\n",
    "        \n",
    "        # Fifth convolutional layer (bias=1)\n",
    "        self.conv5 = nn.Conv2d(384, 256, kernel_size=3, padding=1, groups=2)\n",
    "        self.relu5 = nn.ReLU(inplace=True)\n",
    "        self.pool5 = nn.MaxPool2d(kernel_size=3, stride=2)\n",
    "        \n",
    "        # Classifier (fully connected layers)\n",
    "        self.dropout1 = nn.Dropout(p=0.5)\n",
    "        self.fc1 = nn.Linear(256 * 6 * 6, 4096)\n",
    "        self.relu6 = nn.ReLU(inplace=True)\n",
    "        self.dropout2 = nn.Dropout(p=0.5)\n",
    "        self.fc2 = nn.Linear(4096, 4096)\n",
    "        self.relu7 = nn.ReLU(inplace=True)\n",
    "        self.fc3 = nn.Linear(4096, num_classes)\n",
    "        \n",
    "        # Initialize weights according to paper specifications\n",
    "        self._initialize_weights()\n",
    "        \n",
    "    def forward(self, x):\n",
    "        # Convolutional layers\n",
    "        x = self.conv1(x)\n",
    "        x = self.relu1(x)\n",
    "        x = self.lrn1(x)\n",
    "        x = self.pool1(x)\n",
    "        \n",
    "        x = self.conv2(x)\n",
    "        x = self.relu2(x)\n",
    "        x = self.lrn2(x)\n",
    "        x = self.pool2(x)\n",
    "        \n",
    "        x = self.conv3(x)\n",
    "        x = self.relu3(x)\n",
    "        \n",
    "        x = self.conv4(x)\n",
    "        x = self.relu4(x)\n",
    "        \n",
    "        x = self.conv5(x)\n",
    "        x = self.relu5(x)\n",
    "        x = self.pool5(x)\n",
    "        \n",
    "        # Flatten\n",
    "        x = x.view(x.size(0), 256 * 6 * 6)\n",
    "        \n",
    "        # Fully connected layers\n",
    "        x = self.dropout1(x)\n",
    "        x = self.fc1(x)\n",
    "        x = self.relu6(x)\n",
    "        \n",
    "        x = self.dropout2(x)\n",
    "        x = self.fc2(x)\n",
    "        x = self.relu7(x)\n",
    "        \n",
    "        x = self.fc3(x)\n",
    "        return x\n",
    "    \n",
    "    def _initialize_weights(self):\n",
    "        # Initialize all weights from N(0, 0.01)\n",
    "        for m in self.modules():\n",
    "            if isinstance(m, nn.Conv2d) or isinstance(m, nn.Linear):\n",
    "                nn.init.normal_(m.weight, mean=0, std=0.01)\n",
    "        \n",
    "        # Bias initialization according to paper specifications\n",
    "        # 2nd, 4th, 5th convolutional layers with constant 1\n",
    "        nn.init.constant_(self.conv2.bias, 1)\n",
    "        nn.init.constant_(self.conv4.bias, 1)\n",
    "        nn.init.constant_(self.conv5.bias, 1)\n",
    "        \n",
    "        # Fully connected hidden layers with constant 1\n",
    "        nn.init.constant_(self.fc1.bias, 1)\n",
    "        nn.init.constant_(self.fc2.bias, 1)\n",
    "        \n",
    "        # Remaining layers with 0 (already default in PyTorch)\n",
    "        nn.init.constant_(self.conv1.bias, 0)\n",
    "        nn.init.constant_(self.conv3.bias, 0)\n",
    "        nn.init.constant_(self.fc3.bias, 0)"
   ]
  },
  {
   "cell_type": "code",
   "execution_count": null,
   "metadata": {},
   "outputs": [],
   "source": [
    "# Function to compute top-k accuracy\n",
    "def accuracy(output, target, topk=(1,)):\n",
    "    \"\"\"\n",
    "    Computes the accuracy over the k top predictions for the specified values of k\n",
    "    \"\"\"\n",
    "    with torch.no_grad():\n",
    "        maxk = max(topk)\n",
    "        batch_size = target.size(0)\n",
    "\n",
    "        _, pred = output.topk(maxk, 1, True, True)\n",
    "        # _, pred = output.topk(maxk, dim = 1, largest=True, sorted = True)\n",
    "        pred = pred.t()\n",
    "        \n",
    "        # Performs element-wise equality check between pred and expanded target\n",
    "        correct = pred.eq(target.view(1, -1).expand_as(pred))\n",
    "\n",
    "        res = []\n",
    "        for k in topk:\n",
    "            correct_k = correct[:k].reshape(-1).float().sum(0, keepdim=True)\n",
    "            res.append(correct_k.mul_(100.0 / batch_size))\n",
    "        return res\n",
    "\n",
    "# Training function\n",
    "def train(model, train_loader, optimizer, criterion, epoch, device):\n",
    "    model.train()\n",
    "    running_loss = 0.0\n",
    "    correct1 = 0\n",
    "    correct5 = 0\n",
    "    total = 0\n",
    "    \n",
    "    pbar = tqdm(train_loader, desc=f'Epoch {epoch}')\n",
    "    for inputs, targets in pbar:\n",
    "        # Move inputs and targets to device\n",
    "        inputs, targets = inputs.to(device), targets.to(device)\n",
    "        \n",
    "        # Zero the parameter gradients\n",
    "        optimizer.zero_grad()\n",
    "        \n",
    "        # Forward pass\n",
    "        outputs = model(inputs)\n",
    "        loss = criterion(outputs, targets)\n",
    "        \n",
    "        # Backward pass and optimize\n",
    "        loss.backward()\n",
    "        optimizer.step()\n",
    "        \n",
    "        # Statistics\n",
    "        running_loss += loss.item() * inputs.size(0)\n",
    "        acc1, acc5 = accuracy(outputs, targets, topk=(1, 5))\n",
    "        total += targets.size(0)\n",
    "        correct1 += acc1.item() * inputs.size(0) / 100\n",
    "        correct5 += acc5.item() * inputs.size(0) / 100\n",
    "        \n",
    "        # Update progress bar\n",
    "        pbar.set_postfix({\n",
    "            'loss': running_loss / total,\n",
    "            'top1': 100. * correct1 / total,\n",
    "            'top5': 100. * correct5 / total\n",
    "        })\n",
    "    \n",
    "    train_loss = running_loss / total\n",
    "    train_acc1 = 100. * correct1 / total\n",
    "    train_acc5 = 100. * correct5 / total\n",
    "    train_err1 = 100. - train_acc1\n",
    "    train_err5 = 100. - train_acc5\n",
    "    \n",
    "    return train_loss, train_acc1, train_acc5, train_err1, train_err5\n",
    "\n",
    "# Validation function\n",
    "def validate(model, val_loader, criterion, device):\n",
    "    model.eval()\n",
    "    running_loss = 0.0\n",
    "    correct1 = 0\n",
    "    correct5 = 0\n",
    "    total = 0\n",
    "    \n",
    "    with torch.no_grad():\n",
    "        for inputs, targets in tqdm(val_loader, desc='Validating'):\n",
    "            inputs, targets = inputs.to(device), targets.to(device)\n",
    "            \n",
    "            outputs = model(inputs)\n",
    "            loss = criterion(outputs, targets)\n",
    "            \n",
    "            running_loss += loss.item() * inputs.size(0)\n",
    "            acc1, acc5 = accuracy(outputs, targets, topk=(1, 5))\n",
    "            total += targets.size(0)\n",
    "            correct1 += acc1.item() * inputs.size(0) / 100\n",
    "            correct5 += acc5.item() * inputs.size(0) / 100\n",
    "    \n",
    "    val_loss = running_loss / total\n",
    "    val_acc1 = 100. * correct1 / total\n",
    "    val_acc5 = 100. * correct5 / total\n",
    "    val_err1 = 100. - val_acc1\n",
    "    val_err5 = 100. - val_acc5\n",
    "    \n",
    "    return val_loss, val_acc1, val_acc5, val_err1, val_err5\n"
   ]
  },
  {
   "cell_type": "code",
   "execution_count": 9,
   "metadata": {},
   "outputs": [],
   "source": [
    "# Function to plot and save training/validation curves\n",
    "def plot_curves(train_values, val_values, ylabel, title, filename):\n",
    "    plt.figure(figsize=(10, 6))\n",
    "    plt.plot(train_values, label='Training')\n",
    "    plt.plot(val_values, label='Validation')\n",
    "    plt.xlabel('Epoch')\n",
    "    plt.ylabel(ylabel)\n",
    "    plt.title(title)\n",
    "    plt.legend()\n",
    "    plt.grid(True)\n",
    "    plt.savefig(filename)\n",
    "    plt.close()\n",
    "    # plt.show()"
   ]
  },
  {
   "cell_type": "code",
   "execution_count": 15,
   "metadata": {},
   "outputs": [
    {
     "name": "stdout",
     "output_type": "stream",
     "text": [
      "----------------------------------------------------------------\n",
      "        Layer (type)               Output Shape         Param #\n",
      "================================================================\n",
      "            Conv2d-1           [-1, 96, 55, 55]          34,944\n",
      "              ReLU-2           [-1, 96, 55, 55]               0\n",
      " LocalResponseNorm-3           [-1, 96, 55, 55]               0\n",
      "         MaxPool2d-4           [-1, 96, 27, 27]               0\n",
      "            Conv2d-5          [-1, 256, 27, 27]         307,456\n",
      "              ReLU-6          [-1, 256, 27, 27]               0\n",
      " LocalResponseNorm-7          [-1, 256, 27, 27]               0\n",
      "         MaxPool2d-8          [-1, 256, 13, 13]               0\n",
      "            Conv2d-9          [-1, 384, 13, 13]         885,120\n",
      "             ReLU-10          [-1, 384, 13, 13]               0\n",
      "           Conv2d-11          [-1, 384, 13, 13]         663,936\n",
      "             ReLU-12          [-1, 384, 13, 13]               0\n",
      "           Conv2d-13          [-1, 256, 13, 13]         442,624\n",
      "             ReLU-14          [-1, 256, 13, 13]               0\n",
      "        MaxPool2d-15            [-1, 256, 6, 6]               0\n",
      "          Dropout-16                 [-1, 9216]               0\n",
      "           Linear-17                 [-1, 4096]      37,752,832\n",
      "             ReLU-18                 [-1, 4096]               0\n",
      "          Dropout-19                 [-1, 4096]               0\n",
      "           Linear-20                 [-1, 4096]      16,781,312\n",
      "             ReLU-21                 [-1, 4096]               0\n",
      "           Linear-22                  [-1, 100]         409,700\n",
      "================================================================\n",
      "Total params: 57,277,924\n",
      "Trainable params: 57,277,924\n",
      "Non-trainable params: 0\n",
      "----------------------------------------------------------------\n",
      "Input size (MB): 0.57\n",
      "Forward/backward pass size (MB): 14.72\n",
      "Params size (MB): 218.50\n",
      "Estimated Total Size (MB): 233.79\n",
      "----------------------------------------------------------------\n"
     ]
    }
   ],
   "source": [
    "# Generate model parameter report\n",
    "model_to_checkParameter = AlexNet(num_classes=100)\n",
    "summary(model_to_checkParameter, input_size=(3, 224, 224))"
   ]
  },
  {
   "cell_type": "code",
   "execution_count": 10,
   "metadata": {},
   "outputs": [
    {
     "name": "stdout",
     "output_type": "stream",
     "text": [
      "Using device: cpu\n"
     ]
    },
    {
     "name": "stderr",
     "output_type": "stream",
     "text": [
      "Epoch 1: 100%|██████████| 235/235 [20:28<00:00,  5.23s/it, loss=4.69, top1=1.02, top5=5.05] \n",
      "Validating: 100%|██████████| 79/79 [03:06<00:00,  2.37s/it]\n"
     ]
    },
    {
     "name": "stdout",
     "output_type": "stream",
     "text": [
      "Epoch 1/50:\n",
      "  Training Loss: 4.6944, Top-1 Acc: 1.02%, Top-5 Acc: 5.05%\n",
      "  Validation Loss: 4.6066, Top-1 Acc: 1.00%, Top-5 Acc: 5.00%\n",
      "  Top-1 Error: 99.00%, Top-5 Error: 95.00%\n",
      "  Learning Rate: 0.010000\n",
      "Validation accuracy improved from 0.00% to 1.00%\n",
      "Model saved to alexnet_checkpoints\\best_model.pth\n"
     ]
    },
    {
     "name": "stderr",
     "output_type": "stream",
     "text": [
      "Epoch 2: 100%|██████████| 235/235 [16:49<00:00,  4.29s/it, loss=4.61, top1=1.01, top5=4.9]  \n",
      "Validating: 100%|██████████| 79/79 [02:44<00:00,  2.08s/it]\n"
     ]
    },
    {
     "name": "stdout",
     "output_type": "stream",
     "text": [
      "Epoch 2/50:\n",
      "  Training Loss: 4.6082, Top-1 Acc: 1.01%, Top-5 Acc: 4.90%\n",
      "  Validation Loss: 4.6057, Top-1 Acc: 1.00%, Top-5 Acc: 5.00%\n",
      "  Top-1 Error: 99.00%, Top-5 Error: 95.00%\n",
      "  Learning Rate: 0.010000\n",
      "No improvement for 1 epochs\n"
     ]
    },
    {
     "name": "stderr",
     "output_type": "stream",
     "text": [
      "Epoch 3: 100%|██████████| 235/235 [19:27<00:00,  4.97s/it, loss=4.61, top1=0.987, top5=4.74]\n",
      "Validating: 100%|██████████| 79/79 [02:46<00:00,  2.11s/it]\n"
     ]
    },
    {
     "name": "stdout",
     "output_type": "stream",
     "text": [
      "Epoch 3/50:\n",
      "  Training Loss: 4.6072, Top-1 Acc: 0.99%, Top-5 Acc: 4.74%\n",
      "  Validation Loss: 4.6058, Top-1 Acc: 1.00%, Top-5 Acc: 5.00%\n",
      "  Top-1 Error: 99.00%, Top-5 Error: 95.00%\n",
      "  Learning Rate: 0.010000\n",
      "No improvement for 2 epochs\n"
     ]
    },
    {
     "name": "stderr",
     "output_type": "stream",
     "text": [
      "Epoch 4: 100%|██████████| 235/235 [19:06<00:00,  4.88s/it, loss=4.61, top1=0.997, top5=5.03]\n",
      "Validating: 100%|██████████| 79/79 [02:45<00:00,  2.09s/it]\n"
     ]
    },
    {
     "name": "stdout",
     "output_type": "stream",
     "text": [
      "Epoch 4/50:\n",
      "  Training Loss: 4.6064, Top-1 Acc: 1.00%, Top-5 Acc: 5.03%\n",
      "  Validation Loss: 4.6055, Top-1 Acc: 1.00%, Top-5 Acc: 5.00%\n",
      "  Top-1 Error: 99.00%, Top-5 Error: 95.00%\n",
      "  Learning Rate: 0.010000\n",
      "No improvement for 3 epochs\n"
     ]
    },
    {
     "name": "stderr",
     "output_type": "stream",
     "text": [
      "Epoch 5: 100%|██████████| 235/235 [19:23<00:00,  4.95s/it, loss=4.61, top1=0.843, top5=4.58]\n",
      "Validating: 100%|██████████| 79/79 [02:44<00:00,  2.08s/it]\n"
     ]
    },
    {
     "name": "stdout",
     "output_type": "stream",
     "text": [
      "Epoch 5/50:\n",
      "  Training Loss: 4.6063, Top-1 Acc: 0.84%, Top-5 Acc: 4.58%\n",
      "  Validation Loss: 4.6053, Top-1 Acc: 1.00%, Top-5 Acc: 5.00%\n",
      "  Top-1 Error: 99.00%, Top-5 Error: 95.00%\n",
      "  Learning Rate: 0.010000\n",
      "No improvement for 4 epochs\n"
     ]
    },
    {
     "name": "stderr",
     "output_type": "stream",
     "text": [
      "Epoch 6: 100%|██████████| 235/235 [19:26<00:00,  4.97s/it, loss=4.61, top1=0.9, top5=4.76]  \n",
      "Validating: 100%|██████████| 79/79 [02:46<00:00,  2.11s/it]\n"
     ]
    },
    {
     "name": "stdout",
     "output_type": "stream",
     "text": [
      "Epoch 6/50:\n",
      "  Training Loss: 4.6064, Top-1 Acc: 0.90%, Top-5 Acc: 4.76%\n",
      "  Validation Loss: 4.6056, Top-1 Acc: 1.00%, Top-5 Acc: 5.00%\n",
      "  Top-1 Error: 99.00%, Top-5 Error: 95.00%\n",
      "  Learning Rate: 0.010000\n",
      "No improvement for 5 epochs\n",
      "Learning rate reduced to 0.001000\n"
     ]
    },
    {
     "name": "stderr",
     "output_type": "stream",
     "text": [
      "Epoch 7: 100%|██████████| 235/235 [18:51<00:00,  4.81s/it, loss=4.61, top1=0.913, top5=4.97]\n",
      "Validating: 100%|██████████| 79/79 [02:44<00:00,  2.09s/it]\n"
     ]
    },
    {
     "name": "stdout",
     "output_type": "stream",
     "text": [
      "Epoch 7/50:\n",
      "  Training Loss: 4.6058, Top-1 Acc: 0.91%, Top-5 Acc: 4.97%\n",
      "  Validation Loss: 4.6052, Top-1 Acc: 1.00%, Top-5 Acc: 5.00%\n",
      "  Top-1 Error: 99.00%, Top-5 Error: 95.00%\n",
      "  Learning Rate: 0.001000\n",
      "No improvement for 1 epochs\n"
     ]
    },
    {
     "name": "stderr",
     "output_type": "stream",
     "text": [
      "Epoch 8: 100%|██████████| 235/235 [18:57<00:00,  4.84s/it, loss=4.61, top1=0.99, top5=5.01] \n",
      "Validating: 100%|██████████| 79/79 [02:46<00:00,  2.11s/it]\n"
     ]
    },
    {
     "name": "stdout",
     "output_type": "stream",
     "text": [
      "Epoch 8/50:\n",
      "  Training Loss: 4.6053, Top-1 Acc: 0.99%, Top-5 Acc: 5.01%\n",
      "  Validation Loss: 4.6052, Top-1 Acc: 1.00%, Top-5 Acc: 5.00%\n",
      "  Top-1 Error: 99.00%, Top-5 Error: 95.00%\n",
      "  Learning Rate: 0.001000\n",
      "No improvement for 2 epochs\n"
     ]
    },
    {
     "name": "stderr",
     "output_type": "stream",
     "text": [
      "Epoch 9: 100%|██████████| 235/235 [19:29<00:00,  4.98s/it, loss=4.61, top1=0.993, top5=4.95]\n",
      "Validating: 100%|██████████| 79/79 [02:44<00:00,  2.09s/it]\n"
     ]
    },
    {
     "name": "stdout",
     "output_type": "stream",
     "text": [
      "Epoch 9/50:\n",
      "  Training Loss: 4.6053, Top-1 Acc: 0.99%, Top-5 Acc: 4.95%\n",
      "  Validation Loss: 4.6052, Top-1 Acc: 1.00%, Top-5 Acc: 5.00%\n",
      "  Top-1 Error: 99.00%, Top-5 Error: 95.00%\n",
      "  Learning Rate: 0.001000\n",
      "No improvement for 3 epochs\n"
     ]
    },
    {
     "name": "stderr",
     "output_type": "stream",
     "text": [
      "Epoch 10: 100%|██████████| 235/235 [18:57<00:00,  4.84s/it, loss=4.61, top1=0.987, top5=4.72]\n",
      "Validating: 100%|██████████| 79/79 [02:45<00:00,  2.09s/it]\n"
     ]
    },
    {
     "name": "stdout",
     "output_type": "stream",
     "text": [
      "Epoch 10/50:\n",
      "  Training Loss: 4.6053, Top-1 Acc: 0.99%, Top-5 Acc: 4.72%\n",
      "  Validation Loss: 4.6052, Top-1 Acc: 1.00%, Top-5 Acc: 5.00%\n",
      "  Top-1 Error: 99.00%, Top-5 Error: 95.00%\n",
      "  Learning Rate: 0.001000\n",
      "No improvement for 4 epochs\n"
     ]
    },
    {
     "name": "stderr",
     "output_type": "stream",
     "text": [
      "Epoch 11: 100%|██████████| 235/235 [19:10<00:00,  4.90s/it, loss=4.61, top1=1.05, top5=4.89]\n",
      "Validating: 100%|██████████| 79/79 [02:44<00:00,  2.08s/it]\n"
     ]
    },
    {
     "name": "stdout",
     "output_type": "stream",
     "text": [
      "Epoch 11/50:\n",
      "  Training Loss: 4.6053, Top-1 Acc: 1.05%, Top-5 Acc: 4.89%\n",
      "  Validation Loss: 4.6052, Top-1 Acc: 1.00%, Top-5 Acc: 5.00%\n",
      "  Top-1 Error: 99.00%, Top-5 Error: 95.00%\n",
      "  Learning Rate: 0.001000\n",
      "No improvement for 5 epochs\n",
      "Learning rate reduced to 0.000100\n"
     ]
    },
    {
     "name": "stderr",
     "output_type": "stream",
     "text": [
      "Epoch 12: 100%|██████████| 235/235 [19:07<00:00,  4.88s/it, loss=4.61, top1=0.977, top5=5.05]\n",
      "Validating: 100%|██████████| 79/79 [02:43<00:00,  2.08s/it]\n"
     ]
    },
    {
     "name": "stdout",
     "output_type": "stream",
     "text": [
      "Epoch 12/50:\n",
      "  Training Loss: 4.6052, Top-1 Acc: 0.98%, Top-5 Acc: 5.05%\n",
      "  Validation Loss: 4.6052, Top-1 Acc: 1.00%, Top-5 Acc: 5.00%\n",
      "  Top-1 Error: 99.00%, Top-5 Error: 95.00%\n",
      "  Learning Rate: 0.000100\n",
      "No improvement for 1 epochs\n"
     ]
    },
    {
     "name": "stderr",
     "output_type": "stream",
     "text": [
      "Epoch 13: 100%|██████████| 235/235 [18:59<00:00,  4.85s/it, loss=4.61, top1=0.957, top5=5.06]\n",
      "Validating: 100%|██████████| 79/79 [02:46<00:00,  2.10s/it]\n"
     ]
    },
    {
     "name": "stdout",
     "output_type": "stream",
     "text": [
      "Epoch 13/50:\n",
      "  Training Loss: 4.6052, Top-1 Acc: 0.96%, Top-5 Acc: 5.06%\n",
      "  Validation Loss: 4.6052, Top-1 Acc: 1.00%, Top-5 Acc: 5.00%\n",
      "  Top-1 Error: 99.00%, Top-5 Error: 95.00%\n",
      "  Learning Rate: 0.000100\n",
      "No improvement for 2 epochs\n"
     ]
    },
    {
     "name": "stderr",
     "output_type": "stream",
     "text": [
      "Epoch 14: 100%|██████████| 235/235 [19:16<00:00,  4.92s/it, loss=4.61, top1=1.11, top5=4.88]\n",
      "Validating: 100%|██████████| 79/79 [02:44<00:00,  2.09s/it]\n"
     ]
    },
    {
     "name": "stdout",
     "output_type": "stream",
     "text": [
      "Epoch 14/50:\n",
      "  Training Loss: 4.6053, Top-1 Acc: 1.11%, Top-5 Acc: 4.88%\n",
      "  Validation Loss: 4.6052, Top-1 Acc: 1.00%, Top-5 Acc: 5.00%\n",
      "  Top-1 Error: 99.00%, Top-5 Error: 95.00%\n",
      "  Learning Rate: 0.000100\n",
      "No improvement for 3 epochs\n"
     ]
    },
    {
     "name": "stderr",
     "output_type": "stream",
     "text": [
      "Epoch 15: 100%|██████████| 235/235 [18:56<00:00,  4.84s/it, loss=4.61, top1=0.977, top5=5.04]\n",
      "Validating: 100%|██████████| 79/79 [02:46<00:00,  2.11s/it]\n"
     ]
    },
    {
     "name": "stdout",
     "output_type": "stream",
     "text": [
      "Epoch 15/50:\n",
      "  Training Loss: 4.6053, Top-1 Acc: 0.98%, Top-5 Acc: 5.04%\n",
      "  Validation Loss: 4.6052, Top-1 Acc: 1.00%, Top-5 Acc: 5.00%\n",
      "  Top-1 Error: 99.00%, Top-5 Error: 95.00%\n",
      "  Learning Rate: 0.000100\n",
      "No improvement for 4 epochs\n"
     ]
    },
    {
     "name": "stderr",
     "output_type": "stream",
     "text": [
      "Epoch 16: 100%|██████████| 235/235 [18:46<00:00,  4.79s/it, loss=4.61, top1=1.03, top5=5.17]\n",
      "Validating: 100%|██████████| 79/79 [02:44<00:00,  2.09s/it]\n"
     ]
    },
    {
     "name": "stdout",
     "output_type": "stream",
     "text": [
      "Epoch 16/50:\n",
      "  Training Loss: 4.6052, Top-1 Acc: 1.03%, Top-5 Acc: 5.17%\n",
      "  Validation Loss: 4.6052, Top-1 Acc: 1.00%, Top-5 Acc: 5.00%\n",
      "  Top-1 Error: 99.00%, Top-5 Error: 95.00%\n",
      "  Learning Rate: 0.000100\n",
      "No improvement for 5 epochs\n",
      "Learning rate reduced to 0.000010\n"
     ]
    },
    {
     "name": "stderr",
     "output_type": "stream",
     "text": [
      "Epoch 17: 100%|██████████| 235/235 [19:32<00:00,  4.99s/it, loss=4.61, top1=0.94, top5=4.71] \n",
      "Validating: 100%|██████████| 79/79 [02:44<00:00,  2.08s/it]\n"
     ]
    },
    {
     "name": "stdout",
     "output_type": "stream",
     "text": [
      "Epoch 17/50:\n",
      "  Training Loss: 4.6054, Top-1 Acc: 0.94%, Top-5 Acc: 4.71%\n",
      "  Validation Loss: 4.6052, Top-1 Acc: 1.00%, Top-5 Acc: 5.00%\n",
      "  Top-1 Error: 99.00%, Top-5 Error: 95.00%\n",
      "  Learning Rate: 0.000010\n",
      "No improvement for 1 epochs\n"
     ]
    },
    {
     "name": "stderr",
     "output_type": "stream",
     "text": [
      "Epoch 18: 100%|██████████| 235/235 [19:03<00:00,  4.87s/it, loss=4.61, top1=1, top5=4.83]    \n",
      "Validating: 100%|██████████| 79/79 [02:44<00:00,  2.08s/it]\n"
     ]
    },
    {
     "name": "stdout",
     "output_type": "stream",
     "text": [
      "Epoch 18/50:\n",
      "  Training Loss: 4.6053, Top-1 Acc: 1.00%, Top-5 Acc: 4.83%\n",
      "  Validation Loss: 4.6052, Top-1 Acc: 1.00%, Top-5 Acc: 5.00%\n",
      "  Top-1 Error: 99.00%, Top-5 Error: 95.00%\n",
      "  Learning Rate: 0.000010\n",
      "No improvement for 2 epochs\n"
     ]
    },
    {
     "name": "stderr",
     "output_type": "stream",
     "text": [
      "Epoch 19: 100%|██████████| 235/235 [19:09<00:00,  4.89s/it, loss=4.61, top1=1.02, top5=4.91] \n",
      "Validating: 100%|██████████| 79/79 [02:44<00:00,  2.08s/it]\n"
     ]
    },
    {
     "name": "stdout",
     "output_type": "stream",
     "text": [
      "Epoch 19/50:\n",
      "  Training Loss: 4.6053, Top-1 Acc: 1.02%, Top-5 Acc: 4.91%\n",
      "  Validation Loss: 4.6052, Top-1 Acc: 1.00%, Top-5 Acc: 5.00%\n",
      "  Top-1 Error: 99.00%, Top-5 Error: 95.00%\n",
      "  Learning Rate: 0.000010\n",
      "No improvement for 3 epochs\n"
     ]
    },
    {
     "name": "stderr",
     "output_type": "stream",
     "text": [
      "Epoch 20: 100%|██████████| 235/235 [19:08<00:00,  4.89s/it, loss=4.61, top1=0.937, top5=4.86]\n",
      "Validating: 100%|██████████| 79/79 [02:45<00:00,  2.09s/it]\n"
     ]
    },
    {
     "name": "stdout",
     "output_type": "stream",
     "text": [
      "Epoch 20/50:\n",
      "  Training Loss: 4.6053, Top-1 Acc: 0.94%, Top-5 Acc: 4.86%\n",
      "  Validation Loss: 4.6052, Top-1 Acc: 1.00%, Top-5 Acc: 5.00%\n",
      "  Top-1 Error: 99.00%, Top-5 Error: 95.00%\n",
      "  Learning Rate: 0.000010\n",
      "No improvement for 4 epochs\n"
     ]
    },
    {
     "name": "stderr",
     "output_type": "stream",
     "text": [
      "Epoch 21: 100%|██████████| 235/235 [13:52<00:00,  3.54s/it, loss=4.61, top1=1.03, top5=4.89] \n",
      "Validating: 100%|██████████| 79/79 [01:54<00:00,  1.45s/it]\n"
     ]
    },
    {
     "name": "stdout",
     "output_type": "stream",
     "text": [
      "Epoch 21/50:\n",
      "  Training Loss: 4.6053, Top-1 Acc: 1.03%, Top-5 Acc: 4.89%\n",
      "  Validation Loss: 4.6052, Top-1 Acc: 1.00%, Top-5 Acc: 5.00%\n",
      "  Top-1 Error: 99.00%, Top-5 Error: 95.00%\n",
      "  Learning Rate: 0.000010\n",
      "No improvement for 5 epochs\n",
      "Learning rate reduced to 0.000001\n"
     ]
    },
    {
     "name": "stderr",
     "output_type": "stream",
     "text": [
      "Epoch 22: 100%|██████████| 235/235 [47:48<00:00, 12.21s/it, loss=4.61, top1=1.07, top5=4.9]     \n",
      "Validating: 100%|██████████| 79/79 [03:40<00:00,  2.79s/it]\n"
     ]
    },
    {
     "name": "stdout",
     "output_type": "stream",
     "text": [
      "Epoch 22/50:\n",
      "  Training Loss: 4.6052, Top-1 Acc: 1.07%, Top-5 Acc: 4.90%\n",
      "  Validation Loss: 4.6052, Top-1 Acc: 1.00%, Top-5 Acc: 5.00%\n",
      "  Top-1 Error: 99.00%, Top-5 Error: 95.00%\n",
      "  Learning Rate: 0.000001\n",
      "No improvement for 1 epochs\n"
     ]
    },
    {
     "name": "stderr",
     "output_type": "stream",
     "text": [
      "Epoch 23: 100%|██████████| 235/235 [15:34<00:00,  3.98s/it, loss=4.61, top1=1.02, top5=4.91]\n",
      "Validating: 100%|██████████| 79/79 [02:00<00:00,  1.52s/it]\n"
     ]
    },
    {
     "name": "stdout",
     "output_type": "stream",
     "text": [
      "Epoch 23/50:\n",
      "  Training Loss: 4.6052, Top-1 Acc: 1.02%, Top-5 Acc: 4.91%\n",
      "  Validation Loss: 4.6052, Top-1 Acc: 1.00%, Top-5 Acc: 5.00%\n",
      "  Top-1 Error: 99.00%, Top-5 Error: 95.00%\n",
      "  Learning Rate: 0.000001\n",
      "No improvement for 2 epochs\n"
     ]
    },
    {
     "name": "stderr",
     "output_type": "stream",
     "text": [
      "Epoch 24: 100%|██████████| 235/235 [18:29<00:00,  4.72s/it, loss=4.61, top1=0.967, top5=4.98]\n",
      "Validating: 100%|██████████| 79/79 [01:54<00:00,  1.45s/it]\n"
     ]
    },
    {
     "name": "stdout",
     "output_type": "stream",
     "text": [
      "Epoch 24/50:\n",
      "  Training Loss: 4.6053, Top-1 Acc: 0.97%, Top-5 Acc: 4.98%\n",
      "  Validation Loss: 4.6052, Top-1 Acc: 1.00%, Top-5 Acc: 5.00%\n",
      "  Top-1 Error: 99.00%, Top-5 Error: 95.00%\n",
      "  Learning Rate: 0.000001\n",
      "No improvement for 3 epochs\n"
     ]
    },
    {
     "name": "stderr",
     "output_type": "stream",
     "text": [
      "Epoch 25: 100%|██████████| 235/235 [4:53:31<00:00, 74.94s/it, loss=4.61, top1=0.987, top5=5.11]     \n",
      "Validating: 100%|██████████| 79/79 [05:44<00:00,  4.37s/it]\n"
     ]
    },
    {
     "name": "stdout",
     "output_type": "stream",
     "text": [
      "Epoch 25/50:\n",
      "  Training Loss: 4.6052, Top-1 Acc: 0.99%, Top-5 Acc: 5.11%\n",
      "  Validation Loss: 4.6052, Top-1 Acc: 1.00%, Top-5 Acc: 5.00%\n",
      "  Top-1 Error: 99.00%, Top-5 Error: 95.00%\n",
      "  Learning Rate: 0.000001\n",
      "No improvement for 4 epochs\n"
     ]
    },
    {
     "name": "stderr",
     "output_type": "stream",
     "text": [
      "Epoch 26: 100%|██████████| 235/235 [23:20<00:00,  5.96s/it, loss=4.61, top1=1.04, top5=5.13]\n",
      "Validating: 100%|██████████| 79/79 [01:54<00:00,  1.45s/it]\n"
     ]
    },
    {
     "name": "stdout",
     "output_type": "stream",
     "text": [
      "Epoch 26/50:\n",
      "  Training Loss: 4.6053, Top-1 Acc: 1.04%, Top-5 Acc: 5.13%\n",
      "  Validation Loss: 4.6052, Top-1 Acc: 1.00%, Top-5 Acc: 5.00%\n",
      "  Top-1 Error: 99.00%, Top-5 Error: 95.00%\n",
      "  Learning Rate: 0.000001\n",
      "No improvement for 5 epochs\n",
      "Learning rate reduced to 0.000000\n"
     ]
    },
    {
     "name": "stderr",
     "output_type": "stream",
     "text": [
      "Epoch 27: 100%|██████████| 235/235 [18:04<00:00,  4.61s/it, loss=4.61, top1=1.12, top5=5.05]\n",
      "Validating: 100%|██████████| 79/79 [02:55<00:00,  2.23s/it]\n"
     ]
    },
    {
     "name": "stdout",
     "output_type": "stream",
     "text": [
      "Epoch 27/50:\n",
      "  Training Loss: 4.6053, Top-1 Acc: 1.12%, Top-5 Acc: 5.05%\n",
      "  Validation Loss: 4.6052, Top-1 Acc: 1.00%, Top-5 Acc: 5.00%\n",
      "  Top-1 Error: 99.00%, Top-5 Error: 95.00%\n",
      "  Learning Rate: 0.000000\n",
      "No improvement for 1 epochs\n"
     ]
    },
    {
     "name": "stderr",
     "output_type": "stream",
     "text": [
      "Epoch 28: 100%|██████████| 235/235 [18:43<00:00,  4.78s/it, loss=4.61, top1=1, top5=4.88]    \n",
      "Validating: 100%|██████████| 79/79 [02:12<00:00,  1.68s/it]\n"
     ]
    },
    {
     "name": "stdout",
     "output_type": "stream",
     "text": [
      "Epoch 28/50:\n",
      "  Training Loss: 4.6052, Top-1 Acc: 1.00%, Top-5 Acc: 4.88%\n",
      "  Validation Loss: 4.6052, Top-1 Acc: 1.00%, Top-5 Acc: 5.00%\n",
      "  Top-1 Error: 99.00%, Top-5 Error: 95.00%\n",
      "  Learning Rate: 0.000000\n",
      "No improvement for 2 epochs\n"
     ]
    },
    {
     "name": "stderr",
     "output_type": "stream",
     "text": [
      "Epoch 29: 100%|██████████| 235/235 [16:08<00:00,  4.12s/it, loss=4.61, top1=1.07, top5=5.07]\n",
      "Validating: 100%|██████████| 79/79 [02:14<00:00,  1.70s/it]\n"
     ]
    },
    {
     "name": "stdout",
     "output_type": "stream",
     "text": [
      "Epoch 29/50:\n",
      "  Training Loss: 4.6052, Top-1 Acc: 1.07%, Top-5 Acc: 5.07%\n",
      "  Validation Loss: 4.6052, Top-1 Acc: 1.00%, Top-5 Acc: 5.00%\n",
      "  Top-1 Error: 99.00%, Top-5 Error: 95.00%\n",
      "  Learning Rate: 0.000000\n",
      "No improvement for 3 epochs\n"
     ]
    },
    {
     "name": "stderr",
     "output_type": "stream",
     "text": [
      "Epoch 30: 100%|██████████| 235/235 [19:46<00:00,  5.05s/it, loss=4.61, top1=1, top5=4.94]    \n",
      "Validating: 100%|██████████| 79/79 [03:42<00:00,  2.81s/it]\n"
     ]
    },
    {
     "name": "stdout",
     "output_type": "stream",
     "text": [
      "Epoch 30/50:\n",
      "  Training Loss: 4.6052, Top-1 Acc: 1.00%, Top-5 Acc: 4.94%\n",
      "  Validation Loss: 4.6052, Top-1 Acc: 1.00%, Top-5 Acc: 5.00%\n",
      "  Top-1 Error: 99.00%, Top-5 Error: 95.00%\n",
      "  Learning Rate: 0.000000\n",
      "No improvement for 4 epochs\n"
     ]
    },
    {
     "name": "stderr",
     "output_type": "stream",
     "text": [
      "Epoch 31: 100%|██████████| 235/235 [25:22<00:00,  6.48s/it, loss=4.61, top1=1.01, top5=5.04] \n",
      "Validating: 100%|██████████| 79/79 [04:22<00:00,  3.32s/it]\n"
     ]
    },
    {
     "name": "stdout",
     "output_type": "stream",
     "text": [
      "Epoch 31/50:\n",
      "  Training Loss: 4.6052, Top-1 Acc: 1.01%, Top-5 Acc: 5.04%\n",
      "  Validation Loss: 4.6052, Top-1 Acc: 1.00%, Top-5 Acc: 5.00%\n",
      "  Top-1 Error: 99.00%, Top-5 Error: 95.00%\n",
      "  Learning Rate: 0.000000\n",
      "No improvement for 5 epochs\n",
      "Learning rate reduced to 0.000000\n"
     ]
    },
    {
     "name": "stderr",
     "output_type": "stream",
     "text": [
      "Epoch 32: 100%|██████████| 235/235 [24:35<00:00,  6.28s/it, loss=4.61, top1=1.07, top5=5.19] \n",
      "Validating: 100%|██████████| 79/79 [02:44<00:00,  2.08s/it]\n"
     ]
    },
    {
     "name": "stdout",
     "output_type": "stream",
     "text": [
      "Epoch 32/50:\n",
      "  Training Loss: 4.6052, Top-1 Acc: 1.07%, Top-5 Acc: 5.19%\n",
      "  Validation Loss: 4.6052, Top-1 Acc: 1.00%, Top-5 Acc: 5.00%\n",
      "  Top-1 Error: 99.00%, Top-5 Error: 95.00%\n",
      "  Learning Rate: 0.000000\n",
      "No improvement for 1 epochs\n"
     ]
    },
    {
     "name": "stderr",
     "output_type": "stream",
     "text": [
      "Epoch 33: 100%|██████████| 235/235 [22:10<00:00,  5.66s/it, loss=4.61, top1=1.01, top5=5.07] \n",
      "Validating: 100%|██████████| 79/79 [03:52<00:00,  2.94s/it]\n"
     ]
    },
    {
     "name": "stdout",
     "output_type": "stream",
     "text": [
      "Epoch 33/50:\n",
      "  Training Loss: 4.6053, Top-1 Acc: 1.01%, Top-5 Acc: 5.07%\n",
      "  Validation Loss: 4.6052, Top-1 Acc: 1.00%, Top-5 Acc: 5.00%\n",
      "  Top-1 Error: 99.00%, Top-5 Error: 95.00%\n",
      "  Learning Rate: 0.000000\n",
      "No improvement for 2 epochs\n"
     ]
    },
    {
     "name": "stderr",
     "output_type": "stream",
     "text": [
      "Epoch 34: 100%|██████████| 235/235 [27:55<00:00,  7.13s/it, loss=4.61, top1=1.1, top5=4.95]  \n",
      "Validating: 100%|██████████| 79/79 [06:00<00:00,  4.57s/it]\n"
     ]
    },
    {
     "name": "stdout",
     "output_type": "stream",
     "text": [
      "Epoch 34/50:\n",
      "  Training Loss: 4.6052, Top-1 Acc: 1.10%, Top-5 Acc: 4.95%\n",
      "  Validation Loss: 4.6052, Top-1 Acc: 1.00%, Top-5 Acc: 5.00%\n",
      "  Top-1 Error: 99.00%, Top-5 Error: 95.00%\n",
      "  Learning Rate: 0.000000\n",
      "No improvement for 3 epochs\n"
     ]
    },
    {
     "name": "stderr",
     "output_type": "stream",
     "text": [
      "Epoch 35: 100%|██████████| 235/235 [27:48<00:00,  7.10s/it, loss=4.61, top1=0.953, top5=4.96]\n",
      "Validating: 100%|██████████| 79/79 [05:40<00:00,  4.31s/it]\n"
     ]
    },
    {
     "name": "stdout",
     "output_type": "stream",
     "text": [
      "Epoch 35/50:\n",
      "  Training Loss: 4.6052, Top-1 Acc: 0.95%, Top-5 Acc: 4.96%\n",
      "  Validation Loss: 4.6052, Top-1 Acc: 1.00%, Top-5 Acc: 5.00%\n",
      "  Top-1 Error: 99.00%, Top-5 Error: 95.00%\n",
      "  Learning Rate: 0.000000\n",
      "No improvement for 4 epochs\n"
     ]
    },
    {
     "name": "stderr",
     "output_type": "stream",
     "text": [
      "Epoch 36: 100%|██████████| 235/235 [25:05<00:00,  6.40s/it, loss=4.61, top1=1.01, top5=4.85] \n",
      "Validating: 100%|██████████| 79/79 [04:12<00:00,  3.20s/it]\n"
     ]
    },
    {
     "name": "stdout",
     "output_type": "stream",
     "text": [
      "Epoch 36/50:\n",
      "  Training Loss: 4.6053, Top-1 Acc: 1.01%, Top-5 Acc: 4.85%\n",
      "  Validation Loss: 4.6052, Top-1 Acc: 1.00%, Top-5 Acc: 5.00%\n",
      "  Top-1 Error: 99.00%, Top-5 Error: 95.00%\n",
      "  Learning Rate: 0.000000\n",
      "No improvement for 5 epochs\n",
      "Learning rate reduced to 0.000000\n"
     ]
    },
    {
     "name": "stderr",
     "output_type": "stream",
     "text": [
      "Epoch 37: 100%|██████████| 235/235 [49:00<00:00, 12.51s/it, loss=4.61, top1=1.05, top5=4.96]   \n",
      "Validating: 100%|██████████| 79/79 [03:02<00:00,  2.31s/it]\n"
     ]
    },
    {
     "name": "stdout",
     "output_type": "stream",
     "text": [
      "Epoch 37/50:\n",
      "  Training Loss: 4.6053, Top-1 Acc: 1.05%, Top-5 Acc: 4.96%\n",
      "  Validation Loss: 4.6052, Top-1 Acc: 1.00%, Top-5 Acc: 5.00%\n",
      "  Top-1 Error: 99.00%, Top-5 Error: 95.00%\n",
      "  Learning Rate: 0.000000\n",
      "No improvement for 1 epochs\n"
     ]
    },
    {
     "name": "stderr",
     "output_type": "stream",
     "text": [
      "Epoch 38: 100%|██████████| 235/235 [16:22<00:00,  4.18s/it, loss=4.61, top1=1.05, top5=5.16]\n",
      "Validating: 100%|██████████| 79/79 [01:57<00:00,  1.49s/it]\n"
     ]
    },
    {
     "name": "stdout",
     "output_type": "stream",
     "text": [
      "Epoch 38/50:\n",
      "  Training Loss: 4.6053, Top-1 Acc: 1.05%, Top-5 Acc: 5.16%\n",
      "  Validation Loss: 4.6052, Top-1 Acc: 1.00%, Top-5 Acc: 5.00%\n",
      "  Top-1 Error: 99.00%, Top-5 Error: 95.00%\n",
      "  Learning Rate: 0.000000\n",
      "No improvement for 2 epochs\n"
     ]
    },
    {
     "name": "stderr",
     "output_type": "stream",
     "text": [
      "Epoch 39: 100%|██████████| 235/235 [14:03<00:00,  3.59s/it, loss=4.61, top1=1.02, top5=5.22] \n",
      "Validating: 100%|██████████| 79/79 [01:56<00:00,  1.48s/it]\n"
     ]
    },
    {
     "name": "stdout",
     "output_type": "stream",
     "text": [
      "Epoch 39/50:\n",
      "  Training Loss: 4.6052, Top-1 Acc: 1.02%, Top-5 Acc: 5.22%\n",
      "  Validation Loss: 4.6052, Top-1 Acc: 1.00%, Top-5 Acc: 5.00%\n",
      "  Top-1 Error: 99.00%, Top-5 Error: 95.00%\n",
      "  Learning Rate: 0.000000\n",
      "No improvement for 3 epochs\n"
     ]
    },
    {
     "name": "stderr",
     "output_type": "stream",
     "text": [
      "Epoch 40: 100%|██████████| 235/235 [14:10<00:00,  3.62s/it, loss=4.61, top1=1, top5=5.1]     \n",
      "Validating: 100%|██████████| 79/79 [02:11<00:00,  1.66s/it]\n"
     ]
    },
    {
     "name": "stdout",
     "output_type": "stream",
     "text": [
      "Epoch 40/50:\n",
      "  Training Loss: 4.6052, Top-1 Acc: 1.00%, Top-5 Acc: 5.10%\n",
      "  Validation Loss: 4.6052, Top-1 Acc: 1.00%, Top-5 Acc: 5.00%\n",
      "  Top-1 Error: 99.00%, Top-5 Error: 95.00%\n",
      "  Learning Rate: 0.000000\n",
      "No improvement for 4 epochs\n"
     ]
    },
    {
     "name": "stderr",
     "output_type": "stream",
     "text": [
      "Epoch 41: 100%|██████████| 235/235 [15:56<00:00,  4.07s/it, loss=4.61, top1=1.03, top5=5.16] \n",
      "Validating: 100%|██████████| 79/79 [02:09<00:00,  1.65s/it]\n"
     ]
    },
    {
     "name": "stdout",
     "output_type": "stream",
     "text": [
      "Epoch 41/50:\n",
      "  Training Loss: 4.6052, Top-1 Acc: 1.03%, Top-5 Acc: 5.16%\n",
      "  Validation Loss: 4.6052, Top-1 Acc: 1.00%, Top-5 Acc: 5.00%\n",
      "  Top-1 Error: 99.00%, Top-5 Error: 95.00%\n",
      "  Learning Rate: 0.000000\n",
      "No improvement for 5 epochs\n",
      "Learning rate reduced to 0.000000\n"
     ]
    },
    {
     "name": "stderr",
     "output_type": "stream",
     "text": [
      "Epoch 42: 100%|██████████| 235/235 [16:55<00:00,  4.32s/it, loss=4.61, top1=0.97, top5=5.01] \n",
      "Validating: 100%|██████████| 79/79 [03:22<00:00,  2.56s/it]\n"
     ]
    },
    {
     "name": "stdout",
     "output_type": "stream",
     "text": [
      "Epoch 42/50:\n",
      "  Training Loss: 4.6052, Top-1 Acc: 0.97%, Top-5 Acc: 5.01%\n",
      "  Validation Loss: 4.6052, Top-1 Acc: 1.00%, Top-5 Acc: 5.00%\n",
      "  Top-1 Error: 99.00%, Top-5 Error: 95.00%\n",
      "  Learning Rate: 0.000000\n",
      "No improvement for 1 epochs\n"
     ]
    },
    {
     "name": "stderr",
     "output_type": "stream",
     "text": [
      "Epoch 43: 100%|██████████| 235/235 [21:06<00:00,  5.39s/it, loss=4.61, top1=0.94, top5=4.96] \n",
      "Validating: 100%|██████████| 79/79 [03:36<00:00,  2.74s/it]\n"
     ]
    },
    {
     "name": "stdout",
     "output_type": "stream",
     "text": [
      "Epoch 43/50:\n",
      "  Training Loss: 4.6053, Top-1 Acc: 0.94%, Top-5 Acc: 4.96%\n",
      "  Validation Loss: 4.6052, Top-1 Acc: 1.00%, Top-5 Acc: 5.00%\n",
      "  Top-1 Error: 99.00%, Top-5 Error: 95.00%\n",
      "  Learning Rate: 0.000000\n",
      "No improvement for 2 epochs\n"
     ]
    },
    {
     "name": "stderr",
     "output_type": "stream",
     "text": [
      "Epoch 44: 100%|██████████| 235/235 [26:31<00:00,  6.77s/it, loss=4.61, top1=0.98, top5=5.07] \n",
      "Validating: 100%|██████████| 79/79 [04:39<00:00,  3.53s/it]\n"
     ]
    },
    {
     "name": "stdout",
     "output_type": "stream",
     "text": [
      "Epoch 44/50:\n",
      "  Training Loss: 4.6052, Top-1 Acc: 0.98%, Top-5 Acc: 5.07%\n",
      "  Validation Loss: 4.6052, Top-1 Acc: 1.00%, Top-5 Acc: 5.00%\n",
      "  Top-1 Error: 99.00%, Top-5 Error: 95.00%\n",
      "  Learning Rate: 0.000000\n",
      "No improvement for 3 epochs\n"
     ]
    },
    {
     "name": "stderr",
     "output_type": "stream",
     "text": [
      "Epoch 45: 100%|██████████| 235/235 [25:23<00:00,  6.48s/it, loss=4.61, top1=0.94, top5=4.68] \n",
      "Validating: 100%|██████████| 79/79 [04:57<00:00,  3.76s/it]\n"
     ]
    },
    {
     "name": "stdout",
     "output_type": "stream",
     "text": [
      "Epoch 45/50:\n",
      "  Training Loss: 4.6053, Top-1 Acc: 0.94%, Top-5 Acc: 4.68%\n",
      "  Validation Loss: 4.6052, Top-1 Acc: 1.00%, Top-5 Acc: 5.00%\n",
      "  Top-1 Error: 99.00%, Top-5 Error: 95.00%\n",
      "  Learning Rate: 0.000000\n",
      "No improvement for 4 epochs\n"
     ]
    },
    {
     "name": "stderr",
     "output_type": "stream",
     "text": [
      "Epoch 46: 100%|██████████| 235/235 [23:07<00:00,  5.90s/it, loss=4.61, top1=1.04, top5=4.91] \n",
      "Validating: 100%|██████████| 79/79 [03:20<00:00,  2.54s/it]\n"
     ]
    },
    {
     "name": "stdout",
     "output_type": "stream",
     "text": [
      "Epoch 46/50:\n",
      "  Training Loss: 4.6053, Top-1 Acc: 1.04%, Top-5 Acc: 4.91%\n",
      "  Validation Loss: 4.6052, Top-1 Acc: 1.00%, Top-5 Acc: 5.00%\n",
      "  Top-1 Error: 99.00%, Top-5 Error: 95.00%\n",
      "  Learning Rate: 0.000000\n",
      "No improvement for 5 epochs\n",
      "Learning rate reduced to 0.000000\n"
     ]
    },
    {
     "name": "stderr",
     "output_type": "stream",
     "text": [
      "Epoch 47: 100%|██████████| 235/235 [20:26<00:00,  5.22s/it, loss=4.61, top1=1.01, top5=4.98] \n",
      "Validating: 100%|██████████| 79/79 [04:12<00:00,  3.20s/it]\n"
     ]
    },
    {
     "name": "stdout",
     "output_type": "stream",
     "text": [
      "Epoch 47/50:\n",
      "  Training Loss: 4.6053, Top-1 Acc: 1.01%, Top-5 Acc: 4.98%\n",
      "  Validation Loss: 4.6052, Top-1 Acc: 1.00%, Top-5 Acc: 5.00%\n",
      "  Top-1 Error: 99.00%, Top-5 Error: 95.00%\n",
      "  Learning Rate: 0.000000\n",
      "No improvement for 1 epochs\n"
     ]
    },
    {
     "name": "stderr",
     "output_type": "stream",
     "text": [
      "Epoch 48: 100%|██████████| 235/235 [26:50<00:00,  6.85s/it, loss=4.61, top1=1.07, top5=5.36]\n",
      "Validating: 100%|██████████| 79/79 [05:15<00:00,  3.99s/it]\n"
     ]
    },
    {
     "name": "stdout",
     "output_type": "stream",
     "text": [
      "Epoch 48/50:\n",
      "  Training Loss: 4.6052, Top-1 Acc: 1.07%, Top-5 Acc: 5.36%\n",
      "  Validation Loss: 4.6052, Top-1 Acc: 1.00%, Top-5 Acc: 5.00%\n",
      "  Top-1 Error: 99.00%, Top-5 Error: 95.00%\n",
      "  Learning Rate: 0.000000\n",
      "No improvement for 2 epochs\n"
     ]
    },
    {
     "name": "stderr",
     "output_type": "stream",
     "text": [
      "Epoch 49: 100%|██████████| 235/235 [28:59<00:00,  7.40s/it, loss=4.61, top1=1.08, top5=4.91] \n",
      "Validating: 100%|██████████| 79/79 [03:24<00:00,  2.59s/it]\n"
     ]
    },
    {
     "name": "stdout",
     "output_type": "stream",
     "text": [
      "Epoch 49/50:\n",
      "  Training Loss: 4.6053, Top-1 Acc: 1.08%, Top-5 Acc: 4.91%\n",
      "  Validation Loss: 4.6052, Top-1 Acc: 1.00%, Top-5 Acc: 5.00%\n",
      "  Top-1 Error: 99.00%, Top-5 Error: 95.00%\n",
      "  Learning Rate: 0.000000\n",
      "No improvement for 3 epochs\n"
     ]
    },
    {
     "name": "stderr",
     "output_type": "stream",
     "text": [
      "Epoch 50: 100%|██████████| 235/235 [19:00<00:00,  4.85s/it, loss=4.61, top1=0.977, top5=5.07]\n",
      "Validating: 100%|██████████| 79/79 [02:58<00:00,  2.26s/it]\n"
     ]
    },
    {
     "name": "stdout",
     "output_type": "stream",
     "text": [
      "Epoch 50/50:\n",
      "  Training Loss: 4.6051, Top-1 Acc: 0.98%, Top-5 Acc: 5.07%\n",
      "  Validation Loss: 4.6052, Top-1 Acc: 1.00%, Top-5 Acc: 5.00%\n",
      "  Top-1 Error: 99.00%, Top-5 Error: 95.00%\n",
      "  Learning Rate: 0.000000\n",
      "No improvement for 4 epochs\n"
     ]
    },
    {
     "name": "stderr",
     "output_type": "stream",
     "text": [
      "C:\\Users\\aarun\\AppData\\Local\\Temp\\ipykernel_23116\\4018911737.py:159: FutureWarning: You are using `torch.load` with `weights_only=False` (the current default value), which uses the default pickle module implicitly. It is possible to construct malicious pickle data which will execute arbitrary code during unpickling (See https://github.com/pytorch/pytorch/blob/main/SECURITY.md#untrusted-models for more details). In a future release, the default value for `weights_only` will be flipped to `True`. This limits the functions that could be executed during unpickling. Arbitrary objects will no longer be allowed to be loaded via this mode unless they are explicitly allowlisted by the user via `torch.serialization.add_safe_globals`. We recommend you start setting `weights_only=True` for any use case where you don't have full control of the loaded file. Please open an issue on GitHub for any issues related to this experimental feature.\n",
      "  model.load_state_dict(torch.load(os.path.join(save_dir, 'best_model.pth'))['model_state_dict'])\n",
      "Validating: 100%|██████████| 79/79 [03:42<00:00,  2.82s/it]"
     ]
    },
    {
     "name": "stdout",
     "output_type": "stream",
     "text": [
      "Final Test Results:\n",
      "  Test Loss: 4.6066\n",
      "  Top-1 Accuracy: 1.00%, Top-1 Error: 99.00%\n",
      "  Top-5 Accuracy: 5.00%, Top-5 Error: 95.00%\n"
     ]
    },
    {
     "name": "stderr",
     "output_type": "stream",
     "text": [
      "\n"
     ]
    }
   ],
   "source": [
    "# Main training loop\n",
    "def main():\n",
    "    # Check if GPU is available\n",
    "    device = torch.device('cuda' if torch.cuda.is_available() else 'cpu')\n",
    "    print(f\"Using device: {device}\")\n",
    "    \n",
    "   \n",
    "    # Create model\n",
    "    model = AlexNet(num_classes=len(class_to_idx))\n",
    "    model = model.to(device)\n",
    "    \n",
    "    # Define loss function and optimizer\n",
    "    criterion = nn.CrossEntropyLoss()\n",
    "    \n",
    "    # Following the AlexNet paper:\n",
    "    # - learning rate: 0.01\n",
    "    # - momentum: 0.9\n",
    "    # - weight decay: 0.0005\n",
    "    optimizer = optim.SGD(model.parameters(), lr=0.01, momentum=0.9, weight_decay=0.0005)\n",
    "    \n",
    "    # Create directories\n",
    "    save_dir = 'alexnet_checkpoints'\n",
    "    plot_dir = 'alexnet_plots'\n",
    "    os.makedirs(save_dir, exist_ok=True)\n",
    "    os.makedirs(plot_dir, exist_ok=True)\n",
    "    \n",
    "    # Training parameters\n",
    "    num_epochs = 50  # AlexNet was trained for 90 epochs\n",
    "    patience = 5    # Patience for learning rate reduction\n",
    "    \n",
    "    # Lists to track metrics\n",
    "    train_losses = []\n",
    "    val_losses = []\n",
    "    train_accs1 = []\n",
    "    val_accs1 = []\n",
    "    train_accs5 = []\n",
    "    val_accs5 = []\n",
    "    train_errs1 = []\n",
    "    val_errs1 = []\n",
    "    train_errs5 = []\n",
    "    val_errs5 = []\n",
    "    learning_rates = []\n",
    "    \n",
    "    # Training loop\n",
    "    best_val_acc = 0.0\n",
    "    no_improve_count = 0\n",
    "    current_lr = optimizer.param_groups[0]['lr']\n",
    "    \n",
    "    for epoch in range(1, num_epochs + 1):\n",
    "        # Record current learning rate\n",
    "        learning_rates.append(current_lr)\n",
    "        \n",
    "        # Train\n",
    "        train_loss, train_acc1, train_acc5, train_err1, train_err5 = train(\n",
    "            model, train_loader, optimizer, criterion, epoch, device\n",
    "        )\n",
    "        # Log training metrics\n",
    "        writer.add_scalar('Loss/Train', train_loss, epoch)\n",
    "        writer.add_scalar('Accuracy/Top1_Train', train_acc1, epoch)\n",
    "        writer.add_scalar('Accuracy/Top5_Train', train_acc5, epoch)\n",
    "        writer.add_scalar('Error/Top1_Train', train_err1, epoch)\n",
    "        writer.add_scalar('Error/Top5_Train', train_err5, epoch)\n",
    "        \n",
    "        # Validate\n",
    "        val_loss, val_acc1, val_acc5, val_err1, val_err5 = validate(\n",
    "            model, val_loader, criterion, device\n",
    "        )\n",
    "\n",
    "        # Log validation metrics\n",
    "        writer.add_scalar('Loss/Validation', val_loss, epoch)\n",
    "        writer.add_scalar('Accuracy/Top1_Validation', val_acc1, epoch)\n",
    "        writer.add_scalar('Accuracy/Top5_Validation', val_acc5, epoch)\n",
    "        writer.add_scalar('Error/Top1_Validation', val_err1, epoch)\n",
    "        writer.add_scalar('Error/Top5_Validation', val_err5, epoch)\n",
    "        \n",
    "        # Store metrics\n",
    "        train_losses.append(train_loss)\n",
    "        val_losses.append(val_loss)\n",
    "        train_accs1.append(train_acc1)\n",
    "        val_accs1.append(val_acc1)\n",
    "        train_accs5.append(train_acc5)\n",
    "        val_accs5.append(val_acc5)\n",
    "        train_errs1.append(train_err1)\n",
    "        val_errs1.append(val_err1)\n",
    "        train_errs5.append(train_err5)\n",
    "        val_errs5.append(val_err5)\n",
    "        \n",
    "        # Print statistics\n",
    "        print(f'Epoch {epoch}/{num_epochs}:')\n",
    "        print(f'  Training Loss: {train_loss:.4f}, Top-1 Acc: {train_acc1:.2f}%, Top-5 Acc: {train_acc5:.2f}%')\n",
    "        print(f'  Validation Loss: {val_loss:.4f}, Top-1 Acc: {val_acc1:.2f}%, Top-5 Acc: {val_acc5:.2f}%')\n",
    "        print(f'  Top-1 Error: {val_err1:.2f}%, Top-5 Error: {val_err5:.2f}%')\n",
    "        print(f'  Learning Rate: {current_lr:.6f}')\n",
    "        \n",
    "        # Save checkpoint\n",
    "        is_best = val_acc1 > best_val_acc\n",
    "        if is_best:\n",
    "            print(f'Validation accuracy improved from {best_val_acc:.2f}% to {val_acc1:.2f}%')\n",
    "            best_val_acc = val_acc1\n",
    "            no_improve_count = 0\n",
    "                        \n",
    "            checkpoint = {\n",
    "                'epoch': epoch,\n",
    "                'model_state_dict': model.state_dict(),\n",
    "                'optimizer_state_dict': optimizer.state_dict(),\n",
    "                'val_acc1': val_acc1,\n",
    "                'val_acc5': val_acc5,\n",
    "                'train_acc1': train_acc1,\n",
    "                'train_acc5': train_acc5,\n",
    "                'val_loss': val_loss,\n",
    "                'train_loss': train_loss\n",
    "            }\n",
    "            \n",
    "            torch.save(checkpoint, os.path.join(save_dir, 'best_model.pth'))\n",
    "            print(f'Model saved to {os.path.join(save_dir, \"best_model.pth\")}')\n",
    "        else:\n",
    "            no_improve_count += 1\n",
    "            print(f'No improvement for {no_improve_count} epochs')\n",
    "        \n",
    "        # Learning rate scheduling: reduce by factor of 10 if no improvement for 'patience' epochs\n",
    "        if no_improve_count >= patience:\n",
    "            current_lr = current_lr / 10\n",
    "            for param_group in optimizer.param_groups:\n",
    "                param_group['lr'] = current_lr\n",
    "            print(f'Learning rate reduced to {current_lr:.6f}')\n",
    "            no_improve_count = 0\n",
    "        \n",
    "        # Create plots after each epoch\n",
    "        plot_curves(train_losses, val_losses, 'Loss', 'Training and Validation Loss', \n",
    "                    os.path.join(plot_dir, 'loss_curve.png'))\n",
    "        plot_curves(train_accs1, val_accs1, 'Top-1 Accuracy (%)', 'Training and Validation Top-1 Accuracy', \n",
    "                    os.path.join(plot_dir, 'top1_acc_curve.png'))\n",
    "        plot_curves(train_accs5, val_accs5, 'Top-5 Accuracy (%)', 'Training and Validation Top-5 Accuracy', \n",
    "                    os.path.join(plot_dir, 'top5_acc_curve.png'))\n",
    "        plot_curves(train_errs1, val_errs1, 'Top-1 Error (%)', 'Training and Validation Top-1 Error', \n",
    "                    os.path.join(plot_dir, 'top1_err_curve.png'))\n",
    "        plot_curves(train_errs5, val_errs5, 'Top-5 Error (%)', 'Training and Validation Top-5 Error', \n",
    "                    os.path.join(plot_dir, 'top5_err_curve.png'))\n",
    "  \n",
    "       \n",
    "        # Save training statistics\n",
    "        stats = {\n",
    "            'epoch': list(range(1, epoch + 1)),\n",
    "            'train_loss': train_losses,\n",
    "            'val_loss': val_losses,\n",
    "            'train_acc1': train_accs1,\n",
    "            'val_acc1': val_accs1,\n",
    "            'train_acc5': train_accs5,\n",
    "            'val_acc5': val_accs5,\n",
    "            'train_err1': train_errs1,\n",
    "            'val_err1': val_errs1,\n",
    "            'train_err5': train_errs5,\n",
    "            'val_err5': val_errs5,\n",
    "            'learning_rate': learning_rates\n",
    "        }\n",
    "        pd.DataFrame(stats).to_csv(os.path.join(plot_dir, 'training_stats.csv'), index=False)\n",
    "    \n",
    "    # Final evaluation on test set\n",
    "    model.load_state_dict(torch.load(os.path.join(save_dir, 'best_model.pth'))['model_state_dict'])\n",
    "    test_loss, test_acc1, test_acc5, test_err1, test_err5 = validate(model, test_loader, criterion, device)\n",
    "    print(f'Final Test Results:')\n",
    "    print(f'  Test Loss: {test_loss:.4f}')\n",
    "    print(f'  Top-1 Accuracy: {test_acc1:.2f}%, Top-1 Error: {test_err1:.2f}%')\n",
    "    print(f'  Top-5 Accuracy: {test_acc5:.2f}%, Top-5 Error: {test_err5:.2f}%')\n",
    "    \n",
    "    # Save final test results\n",
    "    with open(os.path.join(plot_dir, 'test_results.txt'), 'w') as f:\n",
    "        f.write(f'Test Loss: {test_loss:.4f}\\n')\n",
    "        f.write(f'Top-1 Accuracy: {test_acc1:.2f}%, Top-1 Error: {test_err1:.2f}%\\n')\n",
    "        f.write(f'Top-5 Accuracy: {test_acc5:.2f}%, Top-5 Error: {test_err5:.2f}%\\n')\n",
    "\n",
    "if __name__ == \"__main__\":\n",
    "    import pandas as pd\n",
    "    main()"
   ]
  }
 ],
 "metadata": {
  "kernelspec": {
   "display_name": "base",
   "language": "python",
   "name": "python3"
  },
  "language_info": {
   "codemirror_mode": {
    "name": "ipython",
    "version": 3
   },
   "file_extension": ".py",
   "mimetype": "text/x-python",
   "name": "python",
   "nbconvert_exporter": "python",
   "pygments_lexer": "ipython3",
   "version": "3.12.4"
  }
 },
 "nbformat": 4,
 "nbformat_minor": 2
}
