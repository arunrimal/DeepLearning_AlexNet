{
 "cells": [
  {
   "cell_type": "markdown",
   "metadata": {},
   "source": [
    "## **Image Data Preprocessing for AlexNet Paper**"
   ]
  },
  {
   "cell_type": "markdown",
   "metadata": {},
   "source": [
    "In this script perform the following task are done \n",
    "1. Take the Data folder named my_dataset/train which contains 50000 images under 100 classes.\n",
    "2. Read the data from file and create a data frame to store all 50000 images data  \n",
    "3. Split the DataFrame and create test, train and validation dataframe."
   ]
  },
  {
   "cell_type": "code",
   "execution_count": 2,
   "metadata": {},
   "outputs": [],
   "source": [
    "# Importing Libraries\n",
    "import os\n",
    "import pandas as pd\n",
    "from sklearn.model_selection import train_test_split"
   ]
  },
  {
   "cell_type": "markdown",
   "metadata": {},
   "source": [
    "**The Split data are stored separately in folders. Directory are created for respective sets**"
   ]
  },
  {
   "cell_type": "code",
   "execution_count": 3,
   "metadata": {},
   "outputs": [],
   "source": [
    "# Source and Destination folder path\n",
    "\n",
    "source_folder = 'my_dataset/train'  \n",
    "output_folder = 'alexnet_dataset'    \n",
    "\n",
    "# Creating directory in the current directory path\n",
    "train_dir = os.path.join(output_folder, 'train')\n",
    "test_dir = os.path.join(output_folder, 'test')\n",
    "val_dir = os.path.join(output_folder, 'val')\n",
    "\n",
    "for directory in [train_dir, test_dir, val_dir]:\n",
    "    os.makedirs(directory, exist_ok=True)"
   ]
  },
  {
   "cell_type": "markdown",
   "metadata": {},
   "source": [
    "**Data Frame is created to store the Image File name, Image Class name and path**"
   ]
  },
  {
   "cell_type": "code",
   "execution_count": 4,
   "metadata": {},
   "outputs": [
    {
     "name": "stdout",
     "output_type": "stream",
     "text": [
      "Total images found: 50000\n"
     ]
    }
   ],
   "source": [
    "# Navigating to the sopurce folder directories to gather information regarding image file\n",
    "\n",
    "image_data = []\n",
    "\n",
    "\n",
    "for class_dir in os.listdir(source_folder):\n",
    "    class_path = os.path.join(source_folder, class_dir)\n",
    "    if os.path.isdir(class_path):\n",
    "        for img_file in os.listdir(class_path):\n",
    "            if img_file.lower().endswith(('.jpeg')):   # only taking .jpeg image as source contains only jpeg file \n",
    "                image_data.append({\n",
    "                    'path': os.path.join(class_path, img_file),\n",
    "                    'class': class_dir,\n",
    "                    'filename': img_file\n",
    "                })\n",
    "\n",
    "# Converting to DataFrame\n",
    "image_df = pd.DataFrame(image_data)\n",
    "print(f\"Total images found: {len(image_df)}\")"
   ]
  },
  {
   "cell_type": "code",
   "execution_count": 5,
   "metadata": {},
   "outputs": [
    {
     "data": {
      "text/html": [
       "<div>\n",
       "<style scoped>\n",
       "    .dataframe tbody tr th:only-of-type {\n",
       "        vertical-align: middle;\n",
       "    }\n",
       "\n",
       "    .dataframe tbody tr th {\n",
       "        vertical-align: top;\n",
       "    }\n",
       "\n",
       "    .dataframe thead th {\n",
       "        text-align: right;\n",
       "    }\n",
       "</style>\n",
       "<table border=\"1\" class=\"dataframe\">\n",
       "  <thead>\n",
       "    <tr style=\"text-align: right;\">\n",
       "      <th></th>\n",
       "      <th>path</th>\n",
       "      <th>class</th>\n",
       "      <th>filename</th>\n",
       "    </tr>\n",
       "  </thead>\n",
       "  <tbody>\n",
       "    <tr>\n",
       "      <th>0</th>\n",
       "      <td>my_dataset/train\\n01530575\\n01530575_10018.JPEG</td>\n",
       "      <td>n01530575</td>\n",
       "      <td>n01530575_10018.JPEG</td>\n",
       "    </tr>\n",
       "    <tr>\n",
       "      <th>1</th>\n",
       "      <td>my_dataset/train\\n01530575\\n01530575_10021.JPEG</td>\n",
       "      <td>n01530575</td>\n",
       "      <td>n01530575_10021.JPEG</td>\n",
       "    </tr>\n",
       "    <tr>\n",
       "      <th>2</th>\n",
       "      <td>my_dataset/train\\n01530575\\n01530575_10023.JPEG</td>\n",
       "      <td>n01530575</td>\n",
       "      <td>n01530575_10023.JPEG</td>\n",
       "    </tr>\n",
       "    <tr>\n",
       "      <th>3</th>\n",
       "      <td>my_dataset/train\\n01530575\\n01530575_10024.JPEG</td>\n",
       "      <td>n01530575</td>\n",
       "      <td>n01530575_10024.JPEG</td>\n",
       "    </tr>\n",
       "    <tr>\n",
       "      <th>4</th>\n",
       "      <td>my_dataset/train\\n01530575\\n01530575_10039.JPEG</td>\n",
       "      <td>n01530575</td>\n",
       "      <td>n01530575_10039.JPEG</td>\n",
       "    </tr>\n",
       "  </tbody>\n",
       "</table>\n",
       "</div>"
      ],
      "text/plain": [
       "                                              path      class  \\\n",
       "0  my_dataset/train\\n01530575\\n01530575_10018.JPEG  n01530575   \n",
       "1  my_dataset/train\\n01530575\\n01530575_10021.JPEG  n01530575   \n",
       "2  my_dataset/train\\n01530575\\n01530575_10023.JPEG  n01530575   \n",
       "3  my_dataset/train\\n01530575\\n01530575_10024.JPEG  n01530575   \n",
       "4  my_dataset/train\\n01530575\\n01530575_10039.JPEG  n01530575   \n",
       "\n",
       "               filename  \n",
       "0  n01530575_10018.JPEG  \n",
       "1  n01530575_10021.JPEG  \n",
       "2  n01530575_10023.JPEG  \n",
       "3  n01530575_10024.JPEG  \n",
       "4  n01530575_10039.JPEG  "
      ]
     },
     "execution_count": 5,
     "metadata": {},
     "output_type": "execute_result"
    }
   ],
   "source": [
    "image_df.head(5)"
   ]
  },
  {
   "cell_type": "code",
   "execution_count": 8,
   "metadata": {},
   "outputs": [],
   "source": [
    "# Spliting 50000 data in train, test and validation set\n",
    "\n",
    "total_images = 50000  \n",
    "train_size = 30000\n",
    "test_size = 10000\n",
    "val_size = 10000\n",
    "\n",
    "train_df, temp_df = train_test_split(\n",
    "    image_df, \n",
    "    train_size=train_size,\n",
    "    test_size=total_images-train_size, \n",
    "    stratify=image_df['class'],    # statifying sampling is used for the selction of image.\n",
    "    random_state=42\n",
    ")"
   ]
  },
  {
   "cell_type": "code",
   "execution_count": 9,
   "metadata": {},
   "outputs": [],
   "source": [
    "# Spliting temp_df into test and validation\n",
    "test_df, val_df = train_test_split(\n",
    "    temp_df, \n",
    "    train_size=test_size,\n",
    "    test_size=val_size, \n",
    "    stratify=temp_df['class'],    # statifying sampling is used for the selction of image.\n",
    "    random_state=42\n",
    ")"
   ]
  },
  {
   "cell_type": "code",
   "execution_count": 10,
   "metadata": {},
   "outputs": [
    {
     "name": "stdout",
     "output_type": "stream",
     "text": [
      "Training set: 30000 images\n",
      "Testing set: 10000 images\n",
      "Validation set: 10000 images\n"
     ]
    }
   ],
   "source": [
    "print(f\"Training set: {len(train_df)} images\")\n",
    "print(f\"Testing set: {len(test_df)} images\")\n",
    "print(f\"Validation set: {len(val_df)} images\")"
   ]
  }
 ],
 "metadata": {
  "kernelspec": {
   "display_name": "base",
   "language": "python",
   "name": "python3"
  },
  "language_info": {
   "codemirror_mode": {
    "name": "ipython",
    "version": 3
   },
   "file_extension": ".py",
   "mimetype": "text/x-python",
   "name": "python",
   "nbconvert_exporter": "python",
   "pygments_lexer": "ipython3",
   "version": "3.12.4"
  }
 },
 "nbformat": 4,
 "nbformat_minor": 2
}
